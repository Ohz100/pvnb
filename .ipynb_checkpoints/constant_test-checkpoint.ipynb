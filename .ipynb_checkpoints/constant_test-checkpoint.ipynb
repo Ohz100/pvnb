{
 "cells": [
  {
   "cell_type": "code",
   "execution_count": 1,
   "id": "263442a3",
   "metadata": {},
   "outputs": [],
   "source": [
    "import math\n",
    "import numpy as np\n",
    "import matplotlib.pyplot as plt\n",
    "import pandas as pd\n",
    "from scipy import stats\n",
    "from scipy.optimize import fsolve\n",
    "from IPython.display import display, Math, Latex, Markdown\n",
    "\n",
    "%run -i constant\n",
    "\n",
    "# degF_degC(x)\n",
    "# degC_degF(x)\n",
    "# vol_horizontal_hemi(z, r_h, r_s, L, cb = 0)\n",
    "# vol_horizontal_ellip(z, r_h, r_s, L, sf)\n",
    "#\n",
    "#\n",
    "# z_horizontal_hemi(v, r_h, r_s, L, cb = 0)\n",
    "# z_horizontal_ellip(v, r_h, r_s, L, sf)\n",
    "#\n",
    "#\n",
    "\n",
    "# arctan2(y,x)"
   ]
  },
  {
   "cell_type": "code",
   "execution_count": null,
   "id": "9543c7ba",
   "metadata": {},
   "outputs": [],
   "source": []
  },
  {
   "cell_type": "code",
   "execution_count": 2,
   "id": "fa78343c",
   "metadata": {},
   "outputs": [
    {
     "data": {
      "text/plain": [
       "array([0.125, 0.375, 0.625, 0.875])"
      ]
     },
     "execution_count": 2,
     "metadata": {},
     "output_type": "execute_result"
    }
   ],
   "source": [
    "np.array([1/8, 3/8, 5/8, 7/8])"
   ]
  },
  {
   "cell_type": "code",
   "execution_count": 3,
   "id": "ccb74f62",
   "metadata": {},
   "outputs": [
    {
     "data": {
      "text/plain": [
       "array([0.0625, 0.1875, 0.3125, 0.4375, 0.5625, 0.6875, 0.8125, 0.9375])"
      ]
     },
     "execution_count": 3,
     "metadata": {},
     "output_type": "execute_result"
    }
   ],
   "source": [
    "np.array([1/16, 3/16, 5/16, 7/16, 9/16, 11/16, 13/16, 15/16])"
   ]
  },
  {
   "cell_type": "code",
   "execution_count": null,
   "id": "0911c837",
   "metadata": {},
   "outputs": [],
   "source": []
  },
  {
   "cell_type": "code",
   "execution_count": 4,
   "id": "af00056c",
   "metadata": {},
   "outputs": [
    {
     "data": {
      "text/plain": [
       "1.72368932329209"
      ]
     },
     "execution_count": 4,
     "metadata": {},
     "output_type": "execute_result"
    }
   ],
   "source": [
    "250*psi/MPa"
   ]
  },
  {
   "cell_type": "code",
   "execution_count": 5,
   "id": "299dad20",
   "metadata": {},
   "outputs": [
    {
     "data": {
      "text/plain": [
       "17.236893232920902"
      ]
     },
     "execution_count": 5,
     "metadata": {},
     "output_type": "execute_result"
    }
   ],
   "source": [
    "250*psi/bar"
   ]
  },
  {
   "cell_type": "code",
   "execution_count": 6,
   "id": "010efdcf",
   "metadata": {},
   "outputs": [
    {
     "data": {
      "text/plain": [
       "17.576739490978984"
      ]
     },
     "execution_count": 6,
     "metadata": {},
     "output_type": "execute_result"
    }
   ],
   "source": [
    "250*psi/(kgf/cm**2)"
   ]
  },
  {
   "cell_type": "code",
   "execution_count": 7,
   "id": "069119f4",
   "metadata": {},
   "outputs": [
    {
     "data": {
      "text/plain": [
       "1.0"
      ]
     },
     "execution_count": 7,
     "metadata": {},
     "output_type": "execute_result"
    }
   ],
   "source": [
    "12*inch/ft"
   ]
  },
  {
   "cell_type": "code",
   "execution_count": 8,
   "id": "18249570",
   "metadata": {},
   "outputs": [
    {
     "data": {
      "text/plain": [
       "123.9375"
      ]
     },
     "execution_count": 8,
     "metadata": {},
     "output_type": "execute_result"
    }
   ],
   "source": [
    "123 + 15/16"
   ]
  },
  {
   "cell_type": "code",
   "execution_count": 9,
   "id": "dde6a8b9",
   "metadata": {},
   "outputs": [
    {
     "name": "stdout",
     "output_type": "stream",
     "text": [
      "3148.0125 mm\n",
      "123.93749999999999 in\n",
      "123 15/16 in\n"
     ]
    }
   ],
   "source": [
    "res(_*inch)"
   ]
  },
  {
   "cell_type": "code",
   "execution_count": 10,
   "id": "3d6b694c",
   "metadata": {},
   "outputs": [
    {
     "data": {
      "text/plain": [
       "111"
      ]
     },
     "execution_count": 10,
     "metadata": {},
     "output_type": "execute_result"
    }
   ],
   "source": [
    "1 + 10 + 100"
   ]
  },
  {
   "cell_type": "code",
   "execution_count": null,
   "id": "a68fd64b",
   "metadata": {},
   "outputs": [],
   "source": []
  }
 ],
 "metadata": {
  "kernelspec": {
   "display_name": "Python 3 (ipykernel)",
   "language": "python",
   "name": "python3"
  },
  "language_info": {
   "codemirror_mode": {
    "name": "ipython",
    "version": 3
   },
   "file_extension": ".py",
   "mimetype": "text/x-python",
   "name": "python",
   "nbconvert_exporter": "python",
   "pygments_lexer": "ipython3",
   "version": "3.9.13"
  }
 },
 "nbformat": 4,
 "nbformat_minor": 5
}
